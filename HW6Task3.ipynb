{
 "cells": [
  {
   "cell_type": "markdown",
   "metadata": {},
   "source": [
    "# HW6Task3"
   ]
  },
  {
   "cell_type": "code",
   "execution_count": 1,
   "metadata": {},
   "outputs": [],
   "source": [
    "import numpy as np"
   ]
  },
  {
   "cell_type": "code",
   "execution_count": 2,
   "metadata": {},
   "outputs": [],
   "source": [
    "def f(x):\n",
    "    return np.array([x[0]**2 - 2 * x[1]**4 + 1, x[0] - x[1]**3 + 1])\n",
    "def der(x):\n",
    "    return np.array([[2 * x[0], -8 * x[1]**3],\n",
    "                   [1, -3 * x[1]**2]])"
   ]
  },
  {
   "cell_type": "code",
   "execution_count": 3,
   "metadata": {},
   "outputs": [],
   "source": [
    "def iteration(f, der, x0):\n",
    "    return x0 - np.linalg.inv(der(x0)) @ f(x0)"
   ]
  },
  {
   "cell_type": "code",
   "execution_count": 4,
   "metadata": {},
   "outputs": [],
   "source": [
    "#найдём решение на единичном круге\n",
    "x = [[0, 1]]\n",
    "for i in range(20):\n",
    "    x += [iteration(f, der, x[-1])]"
   ]
  },
  {
   "cell_type": "code",
   "execution_count": 5,
   "metadata": {},
   "outputs": [
    {
     "data": {
      "text/plain": [
       "[[0, 1],\n",
       " array([-0.375,  0.875]),\n",
       " array([-0.35129856,  0.86576117]),\n",
       " array([-0.35119943,  0.86570596]),\n",
       " array([-0.35119943,  0.86570596]),\n",
       " array([-0.35119943,  0.86570596]),\n",
       " array([-0.35119943,  0.86570596]),\n",
       " array([-0.35119943,  0.86570596]),\n",
       " array([-0.35119943,  0.86570596]),\n",
       " array([-0.35119943,  0.86570596]),\n",
       " array([-0.35119943,  0.86570596]),\n",
       " array([-0.35119943,  0.86570596]),\n",
       " array([-0.35119943,  0.86570596]),\n",
       " array([-0.35119943,  0.86570596]),\n",
       " array([-0.35119943,  0.86570596]),\n",
       " array([-0.35119943,  0.86570596]),\n",
       " array([-0.35119943,  0.86570596]),\n",
       " array([-0.35119943,  0.86570596]),\n",
       " array([-0.35119943,  0.86570596]),\n",
       " array([-0.35119943,  0.86570596]),\n",
       " array([-0.35119943,  0.86570596])]"
      ]
     },
     "execution_count": 5,
     "metadata": {},
     "output_type": "execute_result"
    }
   ],
   "source": [
    "x"
   ]
  },
  {
   "cell_type": "code",
   "execution_count": 6,
   "metadata": {},
   "outputs": [],
   "source": [
    "#проверим наше решение"
   ]
  },
  {
   "cell_type": "code",
   "execution_count": 7,
   "metadata": {},
   "outputs": [],
   "source": [
    "from scipy.optimize import newton_krylov"
   ]
  },
  {
   "cell_type": "code",
   "execution_count": 8,
   "metadata": {},
   "outputs": [
    {
     "data": {
      "text/plain": [
       "array([-0.35119943,  0.86570596])"
      ]
     },
     "execution_count": 8,
     "metadata": {},
     "output_type": "execute_result"
    }
   ],
   "source": [
    "x0 = np.array([0, 1])\n",
    "newton_krylov(f, x0)"
   ]
  },
  {
   "cell_type": "code",
   "execution_count": null,
   "metadata": {},
   "outputs": [],
   "source": []
  },
  {
   "cell_type": "code",
   "execution_count": null,
   "metadata": {},
   "outputs": [],
   "source": []
  }
 ],
 "metadata": {
  "kernelspec": {
   "display_name": "Python 3",
   "language": "python",
   "name": "python3"
  },
  "language_info": {
   "codemirror_mode": {
    "name": "ipython",
    "version": 3
   },
   "file_extension": ".py",
   "mimetype": "text/x-python",
   "name": "python",
   "nbconvert_exporter": "python",
   "pygments_lexer": "ipython3",
   "version": "3.7.4"
  }
 },
 "nbformat": 4,
 "nbformat_minor": 4
}
